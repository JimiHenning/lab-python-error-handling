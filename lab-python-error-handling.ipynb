{
 "cells": [
  {
   "cell_type": "markdown",
   "id": "25d7736c-ba17-4aff-b6bb-66eba20fbf4e",
   "metadata": {},
   "source": [
    "# Lab | Error Handling"
   ]
  },
  {
   "cell_type": "markdown",
   "id": "bc99b386-7508-47a0-bcdb-d969deaf6c8b",
   "metadata": {},
   "source": [
    "## Exercise: Error Handling for Managing Customer Orders\n",
    "\n",
    "The implementation of your code for managing customer orders assumes that the user will always enter a valid input. \n",
    "\n",
    "For example, we could modify the `initialize_inventory` function to include error handling.\n",
    "   - If the user enters an invalid quantity (e.g., a negative value or a non-numeric value), display an error message and ask them to re-enter the quantity for that product.\n",
    "   - Use a try-except block to handle the error and continue prompting the user until a valid quantity is entered.\n",
    "\n",
    "```python\n",
    "# Step 1: Define the function for initializing the inventory with error handling\n",
    "def initialize_inventory(products):\n",
    "    inventory = {}\n",
    "    for product in products:\n",
    "        valid_quantity = False\n",
    "        while not valid_quantity:\n",
    "            try:\n",
    "                quantity = int(input(f\"Enter the quantity of {product}s available: \"))\n",
    "                if quantity < 0:\n",
    "                    raise ValueError(\"Invalid quantity! Please enter a non-negative value.\")\n",
    "                valid_quantity = True\n",
    "            except ValueError as error:\n",
    "                print(f\"Error: {error}\")\n",
    "        inventory[product] = quantity\n",
    "    return inventory\n",
    "\n",
    "# Or, in another way:\n",
    "\n",
    "def initialize_inventory(products):\n",
    "    inventory = {}\n",
    "    for product in products:\n",
    "        valid_input = False\n",
    "        while not valid_input:\n",
    "            try:\n",
    "                quantity = int(input(f\"Enter the quantity of {product}s available: \"))\n",
    "                if quantity >= 0:\n",
    "                    inventory[product] = quantity\n",
    "                    valid_input = True\n",
    "                else:\n",
    "                    print(\"Quantity cannot be negative. Please enter a valid quantity.\")\n",
    "            except ValueError:\n",
    "                print(\"Invalid input. Please enter a valid quantity.\")\n",
    "    return inventory\n",
    "```\n",
    "\n",
    "Let's enhance your code by implementing error handling to handle invalid inputs.\n",
    "\n",
    "Follow the steps below to complete the exercise:\n",
    "\n",
    "2. Modify the `calculate_total_price` function to include error handling.\n",
    "   - If the user enters an invalid price (e.g., a negative value or a non-numeric value), display an error message and ask them to re-enter the price for that product.\n",
    "   - Use a try-except block to handle the error and continue prompting the user until a valid price is entered.\n",
    "\n",
    "3. Modify the `get_customer_orders` function to include error handling.\n",
    "   - If the user enters an invalid number of orders (e.g., a negative value or a non-numeric value), display an error message and ask them to re-enter the number of orders.\n",
    "   - If the user enters an invalid product name (e.g., a product name that is not in the inventory), or that doesn't have stock available, display an error message and ask them to re-enter the product name. *Hint: you will need to pass inventory as a parameter*\n",
    "   - Use a try-except block to handle the error and continue prompting the user until a valid product name is entered.\n",
    "\n",
    "4. Test your code by running the program and deliberately entering invalid quantities and product names. Make sure the error handling mechanism works as expected.\n"
   ]
  },
  {
   "cell_type": "code",
   "execution_count": null,
   "id": "6c0e22f9-80be-41f9-89af-956b475e6c9d",
   "metadata": {},
   "outputs": [],
   "source": []
  },
  {
   "cell_type": "code",
   "execution_count": 128,
   "id": "07114abb-d49a-4499-ae08-41380f8f83b4",
   "metadata": {},
   "outputs": [],
   "source": [
    "products = [\"t-shirt\", \"mug\", \"hat\", \"book\", \"keychain\"]\n",
    "\n",
    "def initialize_inventory(products):\n",
    "    inventory = {}\n",
    "    for product in products:\n",
    "        while True:\n",
    "            try:\n",
    "                quantity = int(input(f\"Enter the quantity of {product}s available: \"))\n",
    "                if quantity >= 0:\n",
    "                    inventory[product] = quantity\n",
    "                    break\n",
    "                else:\n",
    "                    print(\"Quantity cannot be negative. Please enter a valid quantity.\")\n",
    "            except ValueError:\n",
    "                print(\"Invalid input. Please enter a valid quantity.\")\n",
    "    return inventory"
   ]
  },
  {
   "cell_type": "code",
   "execution_count": 130,
   "id": "39daacba-1c90-42a9-9fdf-03b02b64d41b",
   "metadata": {},
   "outputs": [],
   "source": [
    "def get_customer_orders(inventory):\n",
    "    \"\"\"\n",
    "    This function takes the amount of customer orders and the specific items through a loop\n",
    "    \"\"\"\n",
    "    customer_orders = set()\n",
    "    while True:\n",
    "        try:\n",
    "            order_count = int(input(\"Enter the number of customer orders:\"))\n",
    "            if order_count >= 0:\n",
    "                break\n",
    "            else:\n",
    "                print(\"Order is negative. Please enter a valid order!\")\n",
    "        except ValueError:\n",
    "            print(\"Invalid input. Please enter a valid quantity.\")\n",
    "\n",
    "    for i in range (order_count):\n",
    "        while True:\n",
    "            try:\n",
    "                order = input(\"Enter the name of a product the customer wants to order:\")\n",
    "                \n",
    "                if order not in inventory:\n",
    "                    raise ValueError (f\"{order} is not in the list of available products!\")\n",
    "                elif inventory[order] == 0:\n",
    "                    raise ValueError (\"Product not in Stock! Please choose an available Product!\")\n",
    "                        \n",
    "\n",
    "                customer_orders.add(order)\n",
    "                break\n",
    "\n",
    "            except ValueError as e:\n",
    "                print(e)\n",
    "                print(\"Please choose an available Product!\")\n",
    "\n",
    "    print (f\"The customer ordered: {customer_orders}\")\n",
    "    return customer_orders                \n",
    "\n",
    "\n",
    "    \n",
    "    \n",
    "    "
   ]
  },
  {
   "cell_type": "code",
   "execution_count": 132,
   "id": "8eef0509-23a0-4299-9c07-dbfe6cd6da27",
   "metadata": {},
   "outputs": [],
   "source": [
    "def update_inventory (customer_orders, inventory):\n",
    "    inventory = {product:quantity for product, quantity in inventory.items() if quantity > 0}\n",
    "    inventory = {product: inventory[product] -1 if product in customer_orders else inventory[product] for product in inventory}\n",
    "    inventory = {product:quantity for product, quantity in inventory.items() if quantity > 0}\n",
    "    return inventory"
   ]
  },
  {
   "cell_type": "code",
   "execution_count": 134,
   "id": "465f2403-b8ed-476b-99ef-b733a6a0cfed",
   "metadata": {},
   "outputs": [],
   "source": [
    "def calculate_order_statistics (customer_orders, products):\n",
    "    total_products_ordered = len(customer_orders)\n",
    "    percentage = total_products_ordered/len(products)*100\n",
    "    return total_products_ordered, percentage\n",
    "\n"
   ]
  },
  {
   "cell_type": "code",
   "execution_count": 136,
   "id": "28fa18c6-f8df-416e-b411-93f08f4ed497",
   "metadata": {},
   "outputs": [],
   "source": [
    "def print_order_statistics (order_statistics):\n",
    "    total_products_ordered = order_statistics[0]\n",
    "    percentage = order_statistics[1]\n",
    "    print (f\"The customer ordered {total_products_ordered} products, that is {percentage}% of the unique products!\")\n"
   ]
  },
  {
   "cell_type": "code",
   "execution_count": 138,
   "id": "8d97fdd3-9293-40c8-a955-bcfb6dcc86e5",
   "metadata": {},
   "outputs": [],
   "source": [
    "def print_updated_inventory (inventory):\n",
    "    print (\"The updated inventory is:\")\n",
    "    for key, value in inventory.items():\n",
    "        print (f\"{key}s: {value}\")\n"
   ]
  },
  {
   "cell_type": "code",
   "execution_count": 142,
   "id": "6e49cc65-e090-4285-b990-a6105d433367",
   "metadata": {},
   "outputs": [
    {
     "name": "stdin",
     "output_type": "stream",
     "text": [
      "Enter the quantity of t-shirts available:  2\n",
      "Enter the quantity of mugs available:  2\n",
      "Enter the quantity of hats available:  0\n",
      "Enter the quantity of books available:  2\n",
      "Enter the quantity of keychains available:  2\n",
      "Enter the number of customer orders: 2\n",
      "Enter the name of a product the customer wants to order: asdasd\n"
     ]
    },
    {
     "name": "stdout",
     "output_type": "stream",
     "text": [
      "asdasd is not in the list of available products!\n",
      "Please choose an available Product!\n"
     ]
    },
    {
     "name": "stdin",
     "output_type": "stream",
     "text": [
      "Enter the name of a product the customer wants to order: hat\n"
     ]
    },
    {
     "name": "stdout",
     "output_type": "stream",
     "text": [
      "Product not in Stock! Please choose an available Product!\n",
      "Please choose an available Product!\n"
     ]
    },
    {
     "name": "stdin",
     "output_type": "stream",
     "text": [
      "Enter the name of a product the customer wants to order: mug\n",
      "Enter the name of a product the customer wants to order: book\n"
     ]
    },
    {
     "name": "stdout",
     "output_type": "stream",
     "text": [
      "The customer ordered: {'book', 'mug'}\n",
      "The updated inventory is:\n",
      "t-shirts: 2\n",
      "mugs: 1\n",
      "books: 1\n",
      "keychains: 2\n",
      "The customer ordered 2 products, that is 40.0% of the unique products!\n"
     ]
    },
    {
     "name": "stdin",
     "output_type": "stream",
     "text": [
      "Please enter the price of book:  10\n",
      "Please enter the price of mug:  2sd\n"
     ]
    },
    {
     "name": "stdout",
     "output_type": "stream",
     "text": [
      "Invalid input. Please Enter a valid quantity!\n"
     ]
    },
    {
     "name": "stdin",
     "output_type": "stream",
     "text": [
      "Please enter the price of mug:  -2\n"
     ]
    },
    {
     "name": "stdout",
     "output_type": "stream",
     "text": [
      "The price cannot be negative! Please enter a valid price!\n"
     ]
    },
    {
     "name": "stdin",
     "output_type": "stream",
     "text": [
      "Please enter the price of mug:  5\n"
     ]
    },
    {
     "name": "stdout",
     "output_type": "stream",
     "text": [
      "total price:  15.0\n"
     ]
    }
   ],
   "source": [
    "def calculate_product_price (customer_orders):\n",
    "    total_price = []\n",
    "    for product in customer_orders:\n",
    "        valid_input = False\n",
    "        while not valid_input:\n",
    "            try:\n",
    "                price = float(input(f\"Please enter the price of {product}: \"))\n",
    "                if price >= 0:\n",
    "                    total_price.append(price)\n",
    "                    valid_input = True\n",
    "                else:\n",
    "                    print(\"The price cannot be negative! Please enter a valid price!\")\n",
    "            except ValueError:\n",
    "                print(\"Invalid input. Please Enter a valid quantity!\")\n",
    "    return sum(total_price)\n",
    "    \n",
    "\n",
    "\n",
    "#init the inventory\n",
    "inventory = initialize_inventory(products)\n",
    "#get customer orders\n",
    "customer_orders = get_customer_orders(inventory)\n",
    "#update the inventory taking into consideration customer orders\n",
    "inventory = update_inventory(customer_orders,inventory)\n",
    "#calculate stats\n",
    "order_statistics = calculate_order_statistics(customer_orders, products)\n",
    "#print inventory\n",
    "print_updated_inventory(inventory)\n",
    "#print stats\n",
    "print_order_statistics (order_statistics)\n",
    "#calculate the price\n",
    "total_price = calculate_product_price (customer_orders)\n",
    "print(\"total price: \", total_price)\n"
   ]
  },
  {
   "cell_type": "code",
   "execution_count": null,
   "id": "106647c1-c948-49e8-855f-912e6dcbf4f0",
   "metadata": {},
   "outputs": [],
   "source": []
  }
 ],
 "metadata": {
  "kernelspec": {
   "display_name": "Python 3 (ipykernel)",
   "language": "python",
   "name": "python3"
  },
  "language_info": {
   "codemirror_mode": {
    "name": "ipython",
    "version": 3
   },
   "file_extension": ".py",
   "mimetype": "text/x-python",
   "name": "python",
   "nbconvert_exporter": "python",
   "pygments_lexer": "ipython3",
   "version": "3.12.4"
  }
 },
 "nbformat": 4,
 "nbformat_minor": 5
}
